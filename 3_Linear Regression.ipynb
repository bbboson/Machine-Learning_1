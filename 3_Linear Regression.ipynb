{
 "cells": [
  {
   "cell_type": "code",
   "execution_count": 1,
   "metadata": {},
   "outputs": [],
   "source": [
    "\"\"\"\n",
    "1) 머신러닝 순서 복기 \n",
    "2) KNN 알고리즘 복기\n",
    "3) 통계학 vs 머신러닝 \n",
    "4) 다중선형회귀에 대한 개략적 설명\n",
    "\n",
    "\"\"\"\n",
    "\n",
    "# 다음의 네 라이브러리를 import한다고 가정 #\n",
    "\n",
    "from IPython.display import display\n",
    "import numpy as np\n",
    "import matplotlib.pyplot as plt\n",
    "import pandas as pd\n",
    "\n",
    "# !pip install mglearn\n",
    "import mglearn\n"
   ]
  },
  {
   "cell_type": "code",
   "execution_count": 2,
   "metadata": {},
   "outputs": [
    {
     "data": {
      "text/plain": [
       "Text(0,0.5,'target')"
      ]
     },
     "execution_count": 2,
     "metadata": {},
     "output_type": "execute_result"
    },
    {
     "data": {
      "image/png": "[encoded data removed]",
      "text/plain": [
       "<matplotlib.figure.Figure at 0xb8c0b00>"
      ]
     },
     "metadata": {},
     "output_type": "display_data"
    }
   ],
   "source": [
    "\"\"\"\n",
    "\n",
    "해당 교재에 사용되는 예제는 4개이다.\n",
    "\n",
    "1) mglearn.dataset.make_forge() dataset for Binary classification problem \n",
    "2) mglearn.dataset.make_wave(n_samples=40) for Regression problem\n",
    "3) Wisconsin Breast Cancer dataset\n",
    "4) Boston Housing dataset \n",
    "\n",
    "\"\"\"\n",
    "\n",
    "## 2) mglearn.dataset.make_wave(n_samples=40) for Regression problem ##\n",
    "\n",
    "X,y = mglearn.datasets.make_wave(n_samples = 40)\n",
    "plt.plot(X,y,'o')\n",
    "plt.ylim(-3,3)\n",
    "plt.xlabel(\"feature\")\n",
    "plt.ylabel(\"target\") \n"
   ]
  },
  {
   "cell_type": "code",
   "execution_count": 3,
   "metadata": {},
   "outputs": [
    {
     "name": "stdout",
     "output_type": "stream",
     "text": [
      "boston data shape : (506, 13)\n",
      "boston keys : \n",
      "dict_keys(['data', 'target', 'feature_names', 'DESCR'])\n",
      "boston feature_names : \n",
      "['CRIM' 'ZN' 'INDUS' 'CHAS' 'NOX' 'RM' 'AGE' 'DIS' 'RAD' 'TAX' 'PTRATIO'\n",
      " 'B' 'LSTAT']\n",
      "X.shape : (506, 104)\n",
      "\n",
      "y shape : (506,)\n"
     ]
    }
   ],
   "source": [
    "## 4) Boston housing dataset ##\n",
    "\n",
    "from sklearn.datasets import load_boston\n",
    "boston = load_boston()\n",
    "print(\"boston data shape : {}\".format(boston.data.shape))\n",
    "print(\"boston keys : \\n{}\".format(boston.keys()))\n",
    "print(\"boston feature_names : \\n{}\".format(boston.feature_names))\n",
    "\n",
    "# feature Engineering을 이용한 확장된 Boston dataset #\n",
    "\n",
    "X,y = mglearn.datasets.load_extended_boston()\n",
    "print(\"X.shape : {}\".format(X.shape)) # 변수가 13개에서 91개(13+12+11+...+1 = 91)가 늘어난 104개 / 특성들의 곱한값이 추가\n",
    "print()\n",
    "print(\"y shape : {}\".format(y.shape))\n"
   ]
  },
  {
   "cell_type": "code",
   "execution_count": 4,
   "metadata": {},
   "outputs": [
    {
     "name": "stdout",
     "output_type": "stream",
     "text": [
      "w[0]: 0.393906  b: -0.031804\n"
     ]
    },
    {
     "data": {
      "image/png": "[encoded data removed]",
      "text/plain": [
       "<matplotlib.figure.Figure at 0xb96e320>"
      ]
     },
     "metadata": {},
     "output_type": "display_data"
    }
   ],
   "source": [
    "mglearn.plots.plot_linear_regression_wave() # hat(y) = w[0]*X[0] + b"
   ]
  },
  {
   "cell_type": "code",
   "execution_count": 7,
   "metadata": {},
   "outputs": [
    {
     "name": "stdout",
     "output_type": "stream",
     "text": [
      "lr_coef : [0.39390555]\n",
      "\n",
      "lr_intercept : -0.031804343026759746\n"
     ]
    }
   ],
   "source": [
    "\n",
    "\"\"\"\n",
    "OLS(Ordinary Least Squares) : 예측과 훈련 세트에 있는 타깃 y 사이의 평균제곱오차를 최소화시키는 파라미터 w,b를 찾는다.\n",
    "\n",
    "\"\"\"\n",
    "\n",
    "from sklearn.model_selection import train_test_split\n",
    "from sklearn.linear_model import LinearRegression\n",
    "X,y = mglearn.datasets.make_wave(n_samples= 60)\n",
    "X_train,X_test,y_train,y_test = train_test_split(X,y,random_state=42)\n",
    "\n",
    "lr = LinearRegression().fit(X_train,y_train) # kNN과 다르게 매개변수가 없으므로 바로 fit method 사용\n",
    "\n",
    "\"\"\"\n",
    "intercept_ 속성은 항상 실수 값 하나이다.\n",
    "하지만 coef_ 속성은 각 입력 특성에 대응되는 NumPy 배열이다.\n",
    "\n",
    "\"\"\"\n",
    "\n",
    "print(\"lr_coef : {}\".format(lr.coef_))\n",
    "print()\n",
    "print(\"lr_intercept : {}\".format(lr.intercept_))\n"
   ]
  },
  {
   "cell_type": "code",
   "execution_count": 9,
   "metadata": {},
   "outputs": [
    {
     "name": "stdout",
     "output_type": "stream",
     "text": [
      "train score : 0.6700890315075756\n",
      "\n",
      "test score : 0.65933685968637\n"
     ]
    }
   ],
   "source": [
    "print(\"train score : {}\".format(lr.score(X_train,y_train)))\n",
    "print()\n",
    "print(\"test score : {}\".format(lr.score(X_test,y_test)))"
   ]
  },
  {
   "cell_type": "code",
   "execution_count": 10,
   "metadata": {},
   "outputs": [
    {
     "name": "stdout",
     "output_type": "stream",
     "text": [
      "boston data shape : (506, 13)\n"
     ]
    }
   ],
   "source": [
    "# 4)-1 Boston housing dataset(orginal) #\n",
    "\n",
    "from sklearn.datasets import load_boston\n",
    "boston = load_boston()\n",
    "print(\"boston data shape : {}\".format(boston.data.shape)) # (506,13)"
   ]
  },
  {
   "cell_type": "code",
   "execution_count": 12,
   "metadata": {},
   "outputs": [
    {
     "name": "stdout",
     "output_type": "stream",
     "text": [
      "X.shape : (506, 104)\n",
      "\n",
      "y shape : (506,)\n"
     ]
    }
   ],
   "source": [
    "# 4)-2 Boston housing dataset() #\n",
    "\n",
    "X,y = mglearn.datasets.load_extended_boston() # Feature Engineering -> 예측 변수가 늘어났다\n",
    "\n",
    "print(\"X.shape : {}\".format(X.shape)) # (506,104) \n",
    "print()\n",
    "print(\"y shape : {}\".format(y.shape)) # (506,)"
   ]
  },
  {
   "cell_type": "code",
   "execution_count": 13,
   "metadata": {},
   "outputs": [
    {
     "name": "stdout",
     "output_type": "stream",
     "text": [
      "['a1a2', 'a1a3', 'a1a4', 'a1a5', 'a1a6', 'a1a7', 'a1a8', 'a1a9', 'a1a10', 'a1a11', 'a1a12', 'a1a13', 'a2a1', 'a2a3', 'a2a4', 'a2a5', 'a2a6', 'a2a7', 'a2a8', 'a2a9', 'a2a10', 'a2a11', 'a2a12', 'a2a13', 'a3a1', 'a3a2', 'a3a4', 'a3a5', 'a3a6', 'a3a7', 'a3a8', 'a3a9', 'a3a10', 'a3a11', 'a3a12', 'a3a13', 'a4a1', 'a4a2', 'a4a3', 'a4a5', 'a4a6', 'a4a7', 'a4a8', 'a4a9', 'a4a10', 'a4a11', 'a4a12', 'a4a13', 'a5a1', 'a5a2', 'a5a3', 'a5a4', 'a5a6', 'a5a7', 'a5a8', 'a5a9', 'a5a10', 'a5a11', 'a5a12', 'a5a13', 'a6a1', 'a6a2', 'a6a3', 'a6a4', 'a6a5', 'a6a7', 'a6a8', 'a6a9', 'a6a10', 'a6a11', 'a6a12', 'a6a13', 'a7a1', 'a7a2', 'a7a3', 'a7a4', 'a7a5', 'a7a6', 'a7a8', 'a7a9', 'a7a10', 'a7a11', 'a7a12', 'a7a13', 'a8a1', 'a8a2', 'a8a3', 'a8a4', 'a8a5', 'a8a6', 'a8a7', 'a8a9', 'a8a10', 'a8a11', 'a8a12', 'a8a13', 'a9a1', 'a9a2', 'a9a3', 'a9a4', 'a9a5', 'a9a6', 'a9a7', 'a9a8', 'a9a10', 'a9a11', 'a9a12', 'a9a13', 'a10a1', 'a10a2', 'a10a3', 'a10a4', 'a10a5', 'a10a6', 'a10a7', 'a10a8', 'a10a9', 'a10a11', 'a10a12', 'a10a13', 'a11a1', 'a11a2', 'a11a3', 'a11a4', 'a11a5', 'a11a6', 'a11a7', 'a11a8', 'a11a9', 'a11a10', 'a11a12', 'a11a13', 'a12a1', 'a12a2', 'a12a3', 'a12a4', 'a12a5', 'a12a6', 'a12a7', 'a12a8', 'a12a9', 'a12a10', 'a12a11', 'a12a13', 'a13a1', 'a13a2', 'a13a3', 'a13a4', 'a13a5', 'a13a6', 'a13a7', 'a13a8', 'a13a9', 'a13a10', 'a13a11', 'a13a12']\n",
      "\n",
      "156\n"
     ]
    }
   ],
   "source": [
    "import itertools \n",
    "\n",
    "pool = ['a1','a2','a3','a4','a5','a6','a7','a8','a9','a10','a11','a12','a13']\n",
    "\n",
    "print(list(map(''.join,itertools.permutations(pool,2))))\n",
    "print()\n",
    "print(len(list(map(''.join,itertools.permutations(pool,2))))) # 156 = 13P2"
   ]
  },
  {
   "cell_type": "code",
   "execution_count": 43,
   "metadata": {},
   "outputs": [
    {
     "name": "stdout",
     "output_type": "stream",
     "text": [
      "[('a1', 'a2'), ('a1', 'a3'), ('a1', 'a4'), ('a1', 'a5'), ('a1', 'a6'), ('a1', 'a7'), ('a1', 'a8'), ('a1', 'a9'), ('a1', 'a10'), ('a1', 'a11'), ('a1', 'a12'), ('a1', 'a13'), ('a2', 'a3'), ('a2', 'a4'), ('a2', 'a5'), ('a2', 'a6'), ('a2', 'a7'), ('a2', 'a8'), ('a2', 'a9'), ('a2', 'a10'), ('a2', 'a11'), ('a2', 'a12'), ('a2', 'a13'), ('a3', 'a4'), ('a3', 'a5'), ('a3', 'a6'), ('a3', 'a7'), ('a3', 'a8'), ('a3', 'a9'), ('a3', 'a10'), ('a3', 'a11'), ('a3', 'a12'), ('a3', 'a13'), ('a4', 'a5'), ('a4', 'a6'), ('a4', 'a7'), ('a4', 'a8'), ('a4', 'a9'), ('a4', 'a10'), ('a4', 'a11'), ('a4', 'a12'), ('a4', 'a13'), ('a5', 'a6'), ('a5', 'a7'), ('a5', 'a8'), ('a5', 'a9'), ('a5', 'a10'), ('a5', 'a11'), ('a5', 'a12'), ('a5', 'a13'), ('a6', 'a7'), ('a6', 'a8'), ('a6', 'a9'), ('a6', 'a10'), ('a6', 'a11'), ('a6', 'a12'), ('a6', 'a13'), ('a7', 'a8'), ('a7', 'a9'), ('a7', 'a10'), ('a7', 'a11'), ('a7', 'a12'), ('a7', 'a13'), ('a8', 'a9'), ('a8', 'a10'), ('a8', 'a11'), ('a8', 'a12'), ('a8', 'a13'), ('a9', 'a10'), ('a9', 'a11'), ('a9', 'a12'), ('a9', 'a13'), ('a10', 'a11'), ('a10', 'a12'), ('a10', 'a13'), ('a11', 'a12'), ('a11', 'a13'), ('a12', 'a13')]\n",
      "\n",
      "78\n"
     ]
    }
   ],
   "source": [
    "from itertools import combinations\n",
    "\n",
    "print(list(combinations(pool,2)))\n",
    "print()\n",
    "print(len(list(combinations(pool,2)))) # 13C2"
   ]
  },
  {
   "cell_type": "code",
   "execution_count": 14,
   "metadata": {},
   "outputs": [],
   "source": [
    "X_train,X_test,y_train,y_test = train_test_split(X,y,random_state=0)\n"
   ]
  },
  {
   "cell_type": "code",
   "execution_count": 16,
   "metadata": {},
   "outputs": [
    {
     "name": "stdout",
     "output_type": "stream",
     "text": [
      "lr.coef_: [-4.02752236e+02 -5.00710011e+01 -1.33316908e+02 -1.20021023e+01\n",
      " -1.27106873e+01  2.83052585e+01  5.44920273e+01 -5.17339345e+01\n",
      "  2.52602789e+01  3.64990704e+01 -1.01038605e+01 -1.96288897e+01\n",
      " -2.13677312e+01  1.46473758e+01  2.89505391e+03  1.51026852e+03\n",
      "  1.17995400e+02 -2.65658068e+01  3.12488451e+01 -3.14463610e+01\n",
      "  4.52535825e+01  1.28349557e+03 -2.24600306e+03  2.22198614e+02\n",
      " -4.66264354e-01  4.07661992e+01 -1.34357879e+01 -1.90960479e+01\n",
      " -2.77605103e+00 -8.09710327e+01  9.73141885e+00  5.13324280e+00\n",
      " -7.87928926e-01 -7.60269229e+00  3.36717627e+01 -1.15051345e+01\n",
      "  6.62672250e+01 -1.75632324e+01  4.29826712e+01  1.27662043e+00\n",
      "  6.09633677e-01  5.71868313e+01  1.40823103e+01  5.53404218e+01\n",
      " -3.03481907e+01  1.88121756e+01 -1.37772336e+01  6.09790464e+01\n",
      " -1.25792000e+01 -1.20021023e+01 -1.76980605e+01 -3.40279371e+01\n",
      "  7.15036708e+00 -8.41017086e+00  1.69857259e+01 -1.29412471e+01\n",
      " -1.18060747e+01  5.71334581e+01 -1.75814680e+01  1.69557926e+00\n",
      "  2.72177388e+01 -1.67445867e+01  7.50299805e+01 -3.02717569e+01\n",
      "  4.77801366e+01 -4.05414199e+01  5.50445125e+00  2.15309336e+01\n",
      "  2.53662918e+01 -4.94853071e+01  2.81089236e+01  1.04685421e+01\n",
      " -7.15589798e+01 -2.37402020e+01  9.57368270e+00 -3.78757608e+00\n",
      "  1.21433995e+00 -4.71953075e+00  4.12379498e+01 -3.77021533e+01\n",
      " -2.15605195e+00 -2.62959500e+01 -3.32015181e+01  4.59315483e+01\n",
      " -2.30143466e+01 -1.75145726e+01 -1.40847792e+01 -2.04896476e+01\n",
      "  3.65253034e+01 -9.48974963e+01  1.43233527e+02 -1.56740667e+01\n",
      " -1.49732134e+01 -2.86130369e+01 -3.12520263e+01  2.45648366e+01\n",
      " -1.78047541e+01  4.03508210e+00  1.71067619e+00  3.44735201e+01\n",
      "  1.12185643e+01  1.14301989e+00  3.73717124e+00  3.13846206e+01]\n",
      "\n",
      "104\n",
      "\n",
      "lr.intercept_ : 31.64517410082808\n"
     ]
    }
   ],
   "source": [
    "lr = LinearRegression().fit(X_train,y_train)\n",
    "print(\"lr.coef_: {}\".format(lr.coef_))\n",
    "print()\n",
    "print(len(lr.coef_))\n",
    "print()\n",
    "print(\"lr.intercept_ : {}\".format(lr.intercept_))"
   ]
  },
  {
   "cell_type": "code",
   "execution_count": 18,
   "metadata": {},
   "outputs": [
    {
     "name": "stdout",
     "output_type": "stream",
     "text": [
      "train accuracy : 0.95\n",
      "\n",
      "test accuracy : 0.61\n"
     ]
    },
    {
     "data": {
      "text/plain": [
       "'\\n예측 변수가 늘어난 상태에서 OLS 방식의 회귀 직선을 사용하면 과대적합될 가능성이 높다.\\nOLS 방식의 회귀직선은 모델 복잡도를 제어할 매개변수가 없다. \\n'"
      ]
     },
     "execution_count": 18,
     "metadata": {},
     "output_type": "execute_result"
    }
   ],
   "source": [
    "print(\"train accuracy : {:.2f}\".format(lr.score(X_train,y_train)))\n",
    "print()\n",
    "print(\"test accuracy : {:.2f}\".format(lr.score(X_test,y_test)))\n",
    "\n",
    "\"\"\"\n",
    "예측 변수가 늘어난 상태에서 OLS 방식의 회귀 직선을 사용하면 과대적합될 가능성이 높다.\n",
    "OLS 방식의 회귀직선은 모델 복잡도를 제어할 매개변수가 없다. \n",
    "\"\"\""
   ]
  },
  {
   "cell_type": "code",
   "execution_count": 20,
   "metadata": {},
   "outputs": [
    {
     "name": "stdout",
     "output_type": "stream",
     "text": [
      "trainset score : 0.8860578560395835\n",
      "testset score : 0.7527139600306949\n"
     ]
    }
   ],
   "source": [
    "\"\"\"\n",
    "\n",
    "Ridge Regression : 릿지도 OLS와 같은 예측 함수를 사용한다. 하지만 릿지 회귀에서의\n",
    "가중치(w) 선택은 훈련 데이터를 잘 예측하기 위해서 뿐만 아니라 추가 제약 조건을 만족시키 위한 목적이 있다. \n",
    "가중치의 절댓값을 가능한 한 작게 만드는 것이다. 다시 말해서 w의 모든 원소가 0에 가깝게 되길 원한다.\n",
    "규치화 항을 두는 이유는 한 속성이 종속 변수에 주는 영향에 제한을 두고자 하는 것이다. \n",
    "직관적으로 생각하면 이는 모든 특성이 출력에 주는 영향을 최소한으로 만든다. --> L2 Regulation\n",
    "\n",
    "\"\"\"\n",
    "\n",
    "from sklearn.linear_model import Ridge\n",
    "ridge = Ridge().fit(X_train,y_train) # default value of alpha = 1.0\n",
    "print(\"trainset score : {}\".format(ridge.score(X_train,y_train)))\n",
    "print(\"testset score : {}\".format(ridge.score(X_test,y_test)))"
   ]
  },
  {
   "cell_type": "code",
   "execution_count": 21,
   "metadata": {},
   "outputs": [
    {
     "name": "stdout",
     "output_type": "stream",
     "text": [
      "trainset score : 0.7883461511233251\n",
      "testset score : 0.6358967327447731\n"
     ]
    }
   ],
   "source": [
    "# alpha 매개 변수 설정 #\n",
    "\n",
    "ridge10 = Ridge(alpha=10).fit(X_train,y_train)\n",
    "print(\"trainset score : {}\".format(ridge10.score(X_train,y_train)))\n",
    "print(\"testset score : {}\".format(ridge10.score(X_test,y_test)))"
   ]
  },
  {
   "cell_type": "code",
   "execution_count": 22,
   "metadata": {},
   "outputs": [
    {
     "name": "stdout",
     "output_type": "stream",
     "text": [
      "train set score : 0.9285782082010736\n",
      "test set score : 0.7717933688844977\n"
     ]
    }
   ],
   "source": [
    "ridge01 = Ridge(alpha = 0.1).fit(X_train,y_train)\n",
    "print(\"train set score : {}\".format(ridge01.score(X_train,y_train)))\n",
    "print(\"test set score : {}\".format(ridge01.score(X_test,y_test)))"
   ]
  },
  {
   "cell_type": "code",
   "execution_count": 23,
   "metadata": {},
   "outputs": [
    {
     "data": {
      "text/plain": [
       "<matplotlib.legend.Legend at 0x805a588>"
      ]
     },
     "execution_count": 23,
     "metadata": {},
     "output_type": "execute_result"
    },
    {
     "data": {
      "image/png": "[encoded data removed]",
      "text/plain": [
       "<matplotlib.figure.Figure at 0xbee2240>"
      ]
     },
     "metadata": {},
     "output_type": "display_data"
    }
   ],
   "source": [
    "## Alpha 매개 변수를 어떻게 설정해야 가장 좋은 성능을 가진 모델을 가질 수 있을까? ##\n",
    "\n",
    "# 간단한 Grid Search 방법 : for() #\n",
    "\n",
    "train_accuracy = []\n",
    "test_accuracy = []\n",
    "\n",
    "for alpha in np.arange(0,10,0.05):\n",
    "    # generate model\n",
    "    ridge = Ridge(alpha = alpha).fit(X_train,y_train)\n",
    "    # append accuracy of trainset\n",
    "    train_accuracy.append(ridge.score(X_train,y_train))\n",
    "    # append accuracy of testset\n",
    "    test_accuracy.append(ridge.score(X_test,y_test))\n",
    "\n",
    "plt.plot(np.arange(0,10,0.05),train_accuracy,label = \"train accuracy\")\n",
    "plt.plot(np.arange(0,10,0.05),test_accuracy,label = 'test accuracy')\n",
    "plt.ylabel(\"accuracy\")\n",
    "plt.xlabel(\"alpha\")\n",
    "plt.legend()"
   ]
  },
  {
   "cell_type": "code",
   "execution_count": 24,
   "metadata": {},
   "outputs": [
    {
     "name": "stdout",
     "output_type": "stream",
     "text": [
      "200\n",
      "200\n"
     ]
    }
   ],
   "source": [
    "print(len(train_accuracy))\n",
    "print(len(test_accuracy))"
   ]
  },
  {
   "cell_type": "code",
   "execution_count": 25,
   "metadata": {
    "scrolled": true
   },
   "outputs": [
    {
     "data": {
      "text/html": [
       "<div>\n",
       "<style scoped>\n",
       "    .dataframe tbody tr th:only-of-type {\n",
       "        vertical-align: middle;\n",
       "    }\n",
       "\n",
       "    .dataframe tbody tr th {\n",
       "        vertical-align: top;\n",
       "    }\n",
       "\n",
       "    .dataframe thead th {\n",
       "        text-align: right;\n",
       "    }\n",
       "</style>\n",
       "<table border=\"1\" class=\"dataframe\">\n",
       "  <thead>\n",
       "    <tr style=\"text-align: right;\">\n",
       "      <th></th>\n",
       "      <th>accuracy</th>\n",
       "      <th>index</th>\n",
       "    </tr>\n",
       "  </thead>\n",
       "  <tbody>\n",
       "    <tr>\n",
       "      <th>0</th>\n",
       "      <td>0.950957</td>\n",
       "      <td>0.00</td>\n",
       "    </tr>\n",
       "    <tr>\n",
       "      <th>1</th>\n",
       "      <td>0.934739</td>\n",
       "      <td>0.05</td>\n",
       "    </tr>\n",
       "    <tr>\n",
       "      <th>2</th>\n",
       "      <td>0.928578</td>\n",
       "      <td>0.10</td>\n",
       "    </tr>\n",
       "    <tr>\n",
       "      <th>3</th>\n",
       "      <td>0.924050</td>\n",
       "      <td>0.15</td>\n",
       "    </tr>\n",
       "    <tr>\n",
       "      <th>4</th>\n",
       "      <td>0.920278</td>\n",
       "      <td>0.20</td>\n",
       "    </tr>\n",
       "    <tr>\n",
       "      <th>5</th>\n",
       "      <td>0.916970</td>\n",
       "      <td>0.25</td>\n",
       "    </tr>\n",
       "    <tr>\n",
       "      <th>6</th>\n",
       "      <td>0.913986</td>\n",
       "      <td>0.30</td>\n",
       "    </tr>\n",
       "    <tr>\n",
       "      <th>7</th>\n",
       "      <td>0.911246</td>\n",
       "      <td>0.35</td>\n",
       "    </tr>\n",
       "    <tr>\n",
       "      <th>8</th>\n",
       "      <td>0.908698</td>\n",
       "      <td>0.40</td>\n",
       "    </tr>\n",
       "    <tr>\n",
       "      <th>9</th>\n",
       "      <td>0.906308</td>\n",
       "      <td>0.45</td>\n",
       "    </tr>\n",
       "    <tr>\n",
       "      <th>10</th>\n",
       "      <td>0.904051</td>\n",
       "      <td>0.50</td>\n",
       "    </tr>\n",
       "    <tr>\n",
       "      <th>11</th>\n",
       "      <td>0.901907</td>\n",
       "      <td>0.55</td>\n",
       "    </tr>\n",
       "    <tr>\n",
       "      <th>12</th>\n",
       "      <td>0.899863</td>\n",
       "      <td>0.60</td>\n",
       "    </tr>\n",
       "    <tr>\n",
       "      <th>13</th>\n",
       "      <td>0.897906</td>\n",
       "      <td>0.65</td>\n",
       "    </tr>\n",
       "    <tr>\n",
       "      <th>14</th>\n",
       "      <td>0.896029</td>\n",
       "      <td>0.70</td>\n",
       "    </tr>\n",
       "    <tr>\n",
       "      <th>15</th>\n",
       "      <td>0.894222</td>\n",
       "      <td>0.75</td>\n",
       "    </tr>\n",
       "    <tr>\n",
       "      <th>16</th>\n",
       "      <td>0.892479</td>\n",
       "      <td>0.80</td>\n",
       "    </tr>\n",
       "    <tr>\n",
       "      <th>17</th>\n",
       "      <td>0.890796</td>\n",
       "      <td>0.85</td>\n",
       "    </tr>\n",
       "    <tr>\n",
       "      <th>18</th>\n",
       "      <td>0.889168</td>\n",
       "      <td>0.90</td>\n",
       "    </tr>\n",
       "    <tr>\n",
       "      <th>19</th>\n",
       "      <td>0.887589</td>\n",
       "      <td>0.95</td>\n",
       "    </tr>\n",
       "    <tr>\n",
       "      <th>20</th>\n",
       "      <td>0.886058</td>\n",
       "      <td>1.00</td>\n",
       "    </tr>\n",
       "    <tr>\n",
       "      <th>21</th>\n",
       "      <td>0.884570</td>\n",
       "      <td>1.05</td>\n",
       "    </tr>\n",
       "    <tr>\n",
       "      <th>22</th>\n",
       "      <td>0.883124</td>\n",
       "      <td>1.10</td>\n",
       "    </tr>\n",
       "    <tr>\n",
       "      <th>23</th>\n",
       "      <td>0.881716</td>\n",
       "      <td>1.15</td>\n",
       "    </tr>\n",
       "    <tr>\n",
       "      <th>24</th>\n",
       "      <td>0.880344</td>\n",
       "      <td>1.20</td>\n",
       "    </tr>\n",
       "    <tr>\n",
       "      <th>25</th>\n",
       "      <td>0.879006</td>\n",
       "      <td>1.25</td>\n",
       "    </tr>\n",
       "    <tr>\n",
       "      <th>26</th>\n",
       "      <td>0.877701</td>\n",
       "      <td>1.30</td>\n",
       "    </tr>\n",
       "    <tr>\n",
       "      <th>27</th>\n",
       "      <td>0.876427</td>\n",
       "      <td>1.35</td>\n",
       "    </tr>\n",
       "    <tr>\n",
       "      <th>28</th>\n",
       "      <td>0.875182</td>\n",
       "      <td>1.40</td>\n",
       "    </tr>\n",
       "    <tr>\n",
       "      <th>29</th>\n",
       "      <td>0.873965</td>\n",
       "      <td>1.45</td>\n",
       "    </tr>\n",
       "    <tr>\n",
       "      <th>...</th>\n",
       "      <td>...</td>\n",
       "      <td>...</td>\n",
       "    </tr>\n",
       "    <tr>\n",
       "      <th>170</th>\n",
       "      <td>0.796705</td>\n",
       "      <td>8.50</td>\n",
       "    </tr>\n",
       "    <tr>\n",
       "      <th>171</th>\n",
       "      <td>0.796408</td>\n",
       "      <td>8.55</td>\n",
       "    </tr>\n",
       "    <tr>\n",
       "      <th>172</th>\n",
       "      <td>0.796112</td>\n",
       "      <td>8.60</td>\n",
       "    </tr>\n",
       "    <tr>\n",
       "      <th>173</th>\n",
       "      <td>0.795818</td>\n",
       "      <td>8.65</td>\n",
       "    </tr>\n",
       "    <tr>\n",
       "      <th>174</th>\n",
       "      <td>0.795525</td>\n",
       "      <td>8.70</td>\n",
       "    </tr>\n",
       "    <tr>\n",
       "      <th>175</th>\n",
       "      <td>0.795233</td>\n",
       "      <td>8.75</td>\n",
       "    </tr>\n",
       "    <tr>\n",
       "      <th>176</th>\n",
       "      <td>0.794943</td>\n",
       "      <td>8.80</td>\n",
       "    </tr>\n",
       "    <tr>\n",
       "      <th>177</th>\n",
       "      <td>0.794654</td>\n",
       "      <td>8.85</td>\n",
       "    </tr>\n",
       "    <tr>\n",
       "      <th>178</th>\n",
       "      <td>0.794366</td>\n",
       "      <td>8.90</td>\n",
       "    </tr>\n",
       "    <tr>\n",
       "      <th>179</th>\n",
       "      <td>0.794080</td>\n",
       "      <td>8.95</td>\n",
       "    </tr>\n",
       "    <tr>\n",
       "      <th>180</th>\n",
       "      <td>0.793795</td>\n",
       "      <td>9.00</td>\n",
       "    </tr>\n",
       "    <tr>\n",
       "      <th>181</th>\n",
       "      <td>0.793511</td>\n",
       "      <td>9.05</td>\n",
       "    </tr>\n",
       "    <tr>\n",
       "      <th>182</th>\n",
       "      <td>0.793229</td>\n",
       "      <td>9.10</td>\n",
       "    </tr>\n",
       "    <tr>\n",
       "      <th>183</th>\n",
       "      <td>0.792948</td>\n",
       "      <td>9.15</td>\n",
       "    </tr>\n",
       "    <tr>\n",
       "      <th>184</th>\n",
       "      <td>0.792668</td>\n",
       "      <td>9.20</td>\n",
       "    </tr>\n",
       "    <tr>\n",
       "      <th>185</th>\n",
       "      <td>0.792389</td>\n",
       "      <td>9.25</td>\n",
       "    </tr>\n",
       "    <tr>\n",
       "      <th>186</th>\n",
       "      <td>0.792111</td>\n",
       "      <td>9.30</td>\n",
       "    </tr>\n",
       "    <tr>\n",
       "      <th>187</th>\n",
       "      <td>0.791835</td>\n",
       "      <td>9.35</td>\n",
       "    </tr>\n",
       "    <tr>\n",
       "      <th>188</th>\n",
       "      <td>0.791560</td>\n",
       "      <td>9.40</td>\n",
       "    </tr>\n",
       "    <tr>\n",
       "      <th>189</th>\n",
       "      <td>0.791286</td>\n",
       "      <td>9.45</td>\n",
       "    </tr>\n",
       "    <tr>\n",
       "      <th>190</th>\n",
       "      <td>0.791013</td>\n",
       "      <td>9.50</td>\n",
       "    </tr>\n",
       "    <tr>\n",
       "      <th>191</th>\n",
       "      <td>0.790742</td>\n",
       "      <td>9.55</td>\n",
       "    </tr>\n",
       "    <tr>\n",
       "      <th>192</th>\n",
       "      <td>0.790471</td>\n",
       "      <td>9.60</td>\n",
       "    </tr>\n",
       "    <tr>\n",
       "      <th>193</th>\n",
       "      <td>0.790202</td>\n",
       "      <td>9.65</td>\n",
       "    </tr>\n",
       "    <tr>\n",
       "      <th>194</th>\n",
       "      <td>0.789933</td>\n",
       "      <td>9.70</td>\n",
       "    </tr>\n",
       "    <tr>\n",
       "      <th>195</th>\n",
       "      <td>0.789666</td>\n",
       "      <td>9.75</td>\n",
       "    </tr>\n",
       "    <tr>\n",
       "      <th>196</th>\n",
       "      <td>0.789400</td>\n",
       "      <td>9.80</td>\n",
       "    </tr>\n",
       "    <tr>\n",
       "      <th>197</th>\n",
       "      <td>0.789135</td>\n",
       "      <td>9.85</td>\n",
       "    </tr>\n",
       "    <tr>\n",
       "      <th>198</th>\n",
       "      <td>0.788871</td>\n",
       "      <td>9.90</td>\n",
       "    </tr>\n",
       "    <tr>\n",
       "      <th>199</th>\n",
       "      <td>0.788608</td>\n",
       "      <td>9.95</td>\n",
       "    </tr>\n",
       "  </tbody>\n",
       "</table>\n",
       "<p>200 rows × 2 columns</p>\n",
       "</div>"
      ],
      "text/plain": [
       "     accuracy  index\n",
       "0    0.950957   0.00\n",
       "1    0.934739   0.05\n",
       "2    0.928578   0.10\n",
       "3    0.924050   0.15\n",
       "4    0.920278   0.20\n",
       "5    0.916970   0.25\n",
       "6    0.913986   0.30\n",
       "7    0.911246   0.35\n",
       "8    0.908698   0.40\n",
       "9    0.906308   0.45\n",
       "10   0.904051   0.50\n",
       "11   0.901907   0.55\n",
       "12   0.899863   0.60\n",
       "13   0.897906   0.65\n",
       "14   0.896029   0.70\n",
       "15   0.894222   0.75\n",
       "16   0.892479   0.80\n",
       "17   0.890796   0.85\n",
       "18   0.889168   0.90\n",
       "19   0.887589   0.95\n",
       "20   0.886058   1.00\n",
       "21   0.884570   1.05\n",
       "22   0.883124   1.10\n",
       "23   0.881716   1.15\n",
       "24   0.880344   1.20\n",
       "25   0.879006   1.25\n",
       "26   0.877701   1.30\n",
       "27   0.876427   1.35\n",
       "28   0.875182   1.40\n",
       "29   0.873965   1.45\n",
       "..        ...    ...\n",
       "170  0.796705   8.50\n",
       "171  0.796408   8.55\n",
       "172  0.796112   8.60\n",
       "173  0.795818   8.65\n",
       "174  0.795525   8.70\n",
       "175  0.795233   8.75\n",
       "176  0.794943   8.80\n",
       "177  0.794654   8.85\n",
       "178  0.794366   8.90\n",
       "179  0.794080   8.95\n",
       "180  0.793795   9.00\n",
       "181  0.793511   9.05\n",
       "182  0.793229   9.10\n",
       "183  0.792948   9.15\n",
       "184  0.792668   9.20\n",
       "185  0.792389   9.25\n",
       "186  0.792111   9.30\n",
       "187  0.791835   9.35\n",
       "188  0.791560   9.40\n",
       "189  0.791286   9.45\n",
       "190  0.791013   9.50\n",
       "191  0.790742   9.55\n",
       "192  0.790471   9.60\n",
       "193  0.790202   9.65\n",
       "194  0.789933   9.70\n",
       "195  0.789666   9.75\n",
       "196  0.789400   9.80\n",
       "197  0.789135   9.85\n",
       "198  0.788871   9.90\n",
       "199  0.788608   9.95\n",
       "\n",
       "[200 rows x 2 columns]"
      ]
     },
     "execution_count": 25,
     "metadata": {},
     "output_type": "execute_result"
    }
   ],
   "source": [
    "train_accuracy = pd.DataFrame({'accuracy':train_accuracy,'index' : np.arange(0,10,0.05)})\n",
    "train_accuracy"
   ]
  },
  {
   "cell_type": "code",
   "execution_count": 26,
   "metadata": {
    "scrolled": true
   },
   "outputs": [
    {
     "data": {
      "text/plain": [
       "accuracy    0.950957\n",
       "index       9.950000\n",
       "dtype: float64"
      ]
     },
     "execution_count": 26,
     "metadata": {},
     "output_type": "execute_result"
    }
   ],
   "source": [
    "train_accuracy.max()"
   ]
  },
  {
   "cell_type": "code",
   "execution_count": 27,
   "metadata": {},
   "outputs": [
    {
     "data": {
      "text/plain": [
       "accuracy    0.774678\n",
       "index       9.950000\n",
       "dtype: float64"
      ]
     },
     "execution_count": 27,
     "metadata": {},
     "output_type": "execute_result"
    }
   ],
   "source": [
    "test_accuracy = pd.DataFrame({'accuracy':test_accuracy,'index' : np.arange(0,10,0.05)})\n",
    "test_accuracy.max()"
   ]
  },
  {
   "cell_type": "code",
   "execution_count": 28,
   "metadata": {},
   "outputs": [
    {
     "data": {
      "text/plain": [
       "<matplotlib.legend.Legend at 0x81274a8>"
      ]
     },
     "execution_count": 28,
     "metadata": {},
     "output_type": "execute_result"
    },
    {
     "data": {
      "image/png": "[encoded data removed]",
      "text/plain": [
       "<matplotlib.figure.Figure at 0x80e6860>"
      ]
     },
     "metadata": {},
     "output_type": "display_data"
    }
   ],
   "source": [
    "plt.plot(ridge10.coef_, '^', label = \"Ridge alpha = 10\")\n",
    "plt.plot(ridge01.coef_,'v',label = \"Ridge alpha = 0.1\")\n",
    "plt.plot(ridge.coef_,'s',label = 'Ridge alpha = 1')\n",
    "plt.plot(lr.coef_,'o',label = \"Linear Regression\")\n",
    "\n",
    "plt.xlabel(\"index of coef\")\n",
    "plt.ylabel(\"density\")\n",
    "plt.hlines(0,0,len(lr.coef_))\n",
    "plt.ylim(-30,30)\n",
    "plt.legend()"
   ]
  },
  {
   "cell_type": "code",
   "execution_count": 29,
   "metadata": {},
   "outputs": [
    {
     "data": {
      "image/png": "[encoded data removed]",
      "text/plain": [
       "<matplotlib.figure.Figure at 0x816df98>"
      ]
     },
     "metadata": {},
     "output_type": "display_data"
    }
   ],
   "source": [
    "# Learning Curve #\n",
    "\n",
    "mglearn.plots.plot_ridge_n_samples() "
   ]
  },
  {
   "cell_type": "code",
   "execution_count": 30,
   "metadata": {},
   "outputs": [
    {
     "name": "stdout",
     "output_type": "stream",
     "text": [
      "train set score : 0.29323768991114607\n",
      "\n",
      "test set score : 0.20937503255272294\n",
      "\n",
      "feature number : 4\n"
     ]
    }
   ],
   "source": [
    "### LASSO ##\n",
    "\n",
    "from sklearn.linear_model import Lasso\n",
    "lasso = Lasso().fit(X_train,y_train) # In Lasso default value of alpha is 1 \n",
    "print(\"train set score : {}\".format(lasso.score(X_train,y_train)))\n",
    "print()\n",
    "print(\"test set score : {}\".format(lasso.score(X_test,y_test)))\n",
    "print()\n",
    "print(\"feature number : {}\".format(np.sum(lasso.coef_ !=0)))"
   ]
  },
  {
   "cell_type": "code",
   "execution_count": 31,
   "metadata": {},
   "outputs": [],
   "source": [
    "## 과소적합 방지를 위해 alpha값을 줄인다. ##\n",
    "\n",
    "# 1. max_iter(반복 실행하는 최대 횟수)의 기본값을 늘린다. #\n",
    "\n",
    "lasso001 = Lasso(alpha = 0.01,max_iter = 100000).fit(X_train,y_train)"
   ]
  },
  {
   "cell_type": "code",
   "execution_count": 32,
   "metadata": {},
   "outputs": [
    {
     "name": "stdout",
     "output_type": "stream",
     "text": [
      "train set score : 0.896506955975129\n",
      "\n",
      "test set score : 0.7656489887843521\n",
      "\n",
      "feature number : 33\n"
     ]
    }
   ],
   "source": [
    "print(\"train set score : {}\".format(lasso001.score(X_train,y_train)))\n",
    "print()\n",
    "print(\"test set score : {}\".format(lasso001.score(X_test,y_test)))\n",
    "print()\n",
    "print(\"feature number : {}\".format(np.sum(lasso001.coef_ !=0)))"
   ]
  },
  {
   "cell_type": "code",
   "execution_count": 33,
   "metadata": {},
   "outputs": [
    {
     "name": "stdout",
     "output_type": "stream",
     "text": [
      "train set score : 0.9510610436181262\n",
      "\n",
      "test set score : 0.6403098994161569\n",
      "\n",
      "feature number : 94\n"
     ]
    }
   ],
   "source": [
    "# Alpha값을 너무 낮추면 규제 효과가 사라져 과대적합이 되므로 OLS 방식과 비슷해 진다. #\n",
    "\n",
    "lasso00001 = Lasso(alpha = 0.0001,max_iter = 100000).fit(X_train,y_train)\n",
    "\n",
    "print(\"train set score : {}\".format(lasso00001.score(X_train,y_train)))\n",
    "print()\n",
    "print(\"test set score : {}\".format(lasso00001.score(X_test,y_test)))\n",
    "print()\n",
    "print(\"feature number : {}\".format(np.sum(lasso00001.coef_ !=0)))"
   ]
  },
  {
   "cell_type": "code",
   "execution_count": null,
   "metadata": {},
   "outputs": [],
   "source": []
  },
  {
   "cell_type": "code",
   "execution_count": null,
   "metadata": {},
   "outputs": [],
   "source": []
  },
  {
   "cell_type": "code",
   "execution_count": null,
   "metadata": {},
   "outputs": [],
   "source": []
  },
  {
   "cell_type": "code",
   "execution_count": null,
   "metadata": {},
   "outputs": [],
   "source": []
  }
 ],
 "metadata": {
  "kernelspec": {
   "display_name": "Python 3",
   "language": "python",
   "name": "python3"
  },
  "language_info": {
   "codemirror_mode": {
    "name": "ipython",
    "version": 3
   },
   "file_extension": ".py",
   "mimetype": "text/x-python",
   "name": "python",
   "nbconvert_exporter": "python",
   "pygments_lexer": "ipython3",
   "version": "3.6.4"
  }
 },
 "nbformat": 4,
 "nbformat_minor": 2
}
